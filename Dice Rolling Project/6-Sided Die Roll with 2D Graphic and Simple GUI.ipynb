{
 "cells": [
  {
   "cell_type": "code",
   "execution_count": 8,
   "metadata": {},
   "outputs": [],
   "source": [
    "### Try with numbered faces rather than dots for extension to 4-sided, 8-sided, 10-sided, 12-sided, and 20-sided\n",
    "### Try to add static text to result output in window\n",
    "### Try increasing dimensions of window, button, and dice graphic\n",
    "### Look into different design options, i.e. coloring, background graphics, etc\n",
    "### Rounded square for dice face canvas?\n",
    "\n",
    "### Investigate physics engines for 3D graphic of dice rolling"
   ]
  },
  {
   "cell_type": "code",
   "execution_count": 1,
   "metadata": {},
   "outputs": [],
   "source": [
    "# select a dice image at random using Tkinter\n",
    "import tkinter as tk\n",
    "import random"
   ]
  },
  {
   "cell_type": "code",
   "execution_count": 9,
   "metadata": {},
   "outputs": [],
   "source": [
    "def create_dice():\n",
    "    \"\"\"\n",
    "    create the dice canvas list as dice[0] to dice[6]\n",
    "    \"\"\"\n",
    "    dice = []\n",
    "    dice.append(draw_dice('dot0'))   # empty\n",
    "    dice.append(draw_dice('dot5'))   # center dot --> 1\n",
    "    dice.append(draw_dice('dot4', 'dot6'))\n",
    "    dice.append(draw_dice('dot3', 'dot5', 'dot7'))\n",
    "    dice.append(draw_dice('dot1', 'dot3', 'dot7', 'dot9'))\n",
    "    dice.append(draw_dice('dot1', 'dot3', 'dot5', 'dot7', 'dot9'))\n",
    "    dice.append(draw_dice('dot1', 'dot3', 'dot4', 'dot6', 'dot7', 'dot9'))\n",
    "    return dice"
   ]
  },
  {
   "cell_type": "code",
   "execution_count": 10,
   "metadata": {},
   "outputs": [],
   "source": [
    "def draw_dice(*arg):\n",
    "    \"\"\"\n",
    "    draws the 7 different dice dots on the canvas\n",
    "    \"\"\"\n",
    "    w = 160\n",
    "    h = 160\n",
    "    c = tk.Canvas(root, width=w+24, height=h+24, bg='red')\n",
    "    # set the dot specs\n",
    "    x = 16\n",
    "    y = 16\n",
    "    r = 20\n",
    "    if 'dot1' in arg:\n",
    "        dot1 = c.create_oval(x, y, x+r, y+r, fill='black')\n",
    "    x = w/2\n",
    "    x = 144\n",
    "    if 'dot3' in arg:\n",
    "        dot3 = c.create_oval(x, y, x+r, y+r, fill='black')\n",
    "    x = 16\n",
    "    y = h/2\n",
    "    if 'dot4' in arg:\n",
    "        dot4 = c.create_oval(x, y, x+r, y+r, fill='black')\n",
    "    x = w/2\n",
    "    if 'dot5' in arg:\n",
    "        dot5 = c.create_oval(x, y, x+r, y+r, fill='black')\n",
    "    x = 144\n",
    "    if 'dot6' in arg:\n",
    "        dot6 = c.create_oval(x, y, x+r, y+r, fill='black')\n",
    "    x = 16\n",
    "    y = 144\n",
    "    if 'dot7' in arg:\n",
    "        dot7 = c.create_oval(x, y, x+r, y+r, fill='black')\n",
    "    x = w/2\n",
    "    x = 144\n",
    "    if 'dot9' in arg:\n",
    "        dot9 = c.create_oval(x, y, x+r, y+r, fill='black')\n",
    "    if 'dot0' in arg:\n",
    "        pass\n",
    "    return c"
   ]
  },
  {
   "cell_type": "code",
   "execution_count": 30,
   "metadata": {},
   "outputs": [],
   "source": [
    "def click():\n",
    "    \"\"\"\n",
    "    display a randomly selected dice value\n",
    "    \"\"\"\n",
    "    # start with a time delay of 100 ms and increase it as the dice rolls\n",
    "    t = 150\n",
    "    stop = random.randint(7, 12)\n",
    "    for x in range(stop):\n",
    "        dice_index = random.randint(1, 6)\n",
    "        root.title(str(dice_index))  # test\n",
    "        dice_list[dice_index].grid(row=1, column=0, pady=5)\n",
    "        root.update()\n",
    "        if x == stop-1:\n",
    "            # final result available via var1.get()\n",
    "            var1.set(str(dice_index))\n",
    "            break\n",
    "        root.after(t, dice_list[dice_index].grid_forget())\n",
    "        t += 20"
   ]
  },
  {
   "cell_type": "code",
   "execution_count": 31,
   "metadata": {},
   "outputs": [],
   "source": [
    "# create the window form\n",
    "root = tk.Tk()\n",
    "root.geometry(\"188x250+600+300\")\n",
    "\n",
    "# StringVar() updates result label automatically\n",
    "var1 = tk.StringVar()\n",
    "# set initial value\n",
    "var1.set(\"\")\n",
    "# create the result label\n",
    "result = tk.Label(root, textvariable=var1, fg='red')\n",
    "result.grid(row=3, column=0, columnspan=3)\n",
    "\n",
    "dice_list = create_dice()\n",
    "# start with an empty canvas\n",
    "dice_list[0].grid(row=1, column=0, pady=5)\n",
    "\n",
    "button1 = tk.Button(root, text=\"Press to Roll!\", command=click)\n",
    "button1.grid(row=2, column=0, pady=3)"
   ]
  },
  {
   "cell_type": "code",
   "execution_count": 32,
   "metadata": {},
   "outputs": [],
   "source": [
    "# start of program event loop\n",
    "root.mainloop()"
   ]
  },
  {
   "cell_type": "code",
   "execution_count": null,
   "metadata": {},
   "outputs": [],
   "source": []
  },
  {
   "cell_type": "code",
   "execution_count": null,
   "metadata": {},
   "outputs": [],
   "source": []
  },
  {
   "cell_type": "code",
   "execution_count": null,
   "metadata": {},
   "outputs": [],
   "source": []
  },
  {
   "cell_type": "code",
   "execution_count": null,
   "metadata": {},
   "outputs": [],
   "source": []
  },
  {
   "cell_type": "code",
   "execution_count": null,
   "metadata": {},
   "outputs": [],
   "source": []
  },
  {
   "cell_type": "code",
   "execution_count": null,
   "metadata": {},
   "outputs": [],
   "source": []
  },
  {
   "cell_type": "code",
   "execution_count": null,
   "metadata": {},
   "outputs": [],
   "source": []
  }
 ],
 "metadata": {
  "kernelspec": {
   "display_name": "Python 3",
   "language": "python",
   "name": "python3"
  },
  "language_info": {
   "codemirror_mode": {
    "name": "ipython",
    "version": 3
   },
   "file_extension": ".py",
   "mimetype": "text/x-python",
   "name": "python",
   "nbconvert_exporter": "python",
   "pygments_lexer": "ipython3",
   "version": "3.6.7"
  }
 },
 "nbformat": 4,
 "nbformat_minor": 2
}
