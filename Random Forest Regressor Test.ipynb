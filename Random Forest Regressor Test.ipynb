{
 "cells": [
  {
   "cell_type": "code",
   "execution_count": 1,
   "metadata": {},
   "outputs": [],
   "source": [
    "# import packages and modules\n",
    "import numpy as np\n",
    "import pandas as pd\n",
    "from sklearn.model_selection import train_test_split\n",
    "from sklearn import preprocessing\n",
    "from sklearn.ensemble import RandomForestRegressor\n",
    "from sklearn.pipeline import make_pipeline\n",
    "from sklearn.model_selection import GridSearchCV\n",
    "from sklearn.metrics import mean_squared_error, r2_score\n",
    "from sklearn.externals import joblib"
   ]
  },
  {
   "cell_type": "code",
   "execution_count": 2,
   "metadata": {},
   "outputs": [],
   "source": [
    "# read data set from url\n",
    "dataset_url = \"http://mlr.cs.umass.edu/ml/machine-learning-databases/wine-quality/winequality-red.csv\"\n",
    "data = pd.read_csv(dataset_url)"
   ]
  },
  {
   "cell_type": "code",
   "execution_count": 3,
   "metadata": {},
   "outputs": [
    {
     "name": "stdout",
     "output_type": "stream",
     "text": [
      "  fixed acidity;\"volatile acidity\";\"citric acid\";\"residual sugar\";\"chlorides\";\"free sulfur dioxide\";\"total sulfur dioxide\";\"density\";\"pH\";\"sulphates\";\"alcohol\";\"quality\"\n",
      "0   7.4;0.7;0;1.9;0.076;11;34;0.9978;3.51;0.56;9.4;5                                                                                                                     \n",
      "1   7.8;0.88;0;2.6;0.098;25;67;0.9968;3.2;0.68;9.8;5                                                                                                                     \n",
      "2  7.8;0.76;0.04;2.3;0.092;15;54;0.997;3.26;0.65;...                                                                                                                     \n",
      "3  11.2;0.28;0.56;1.9;0.075;17;60;0.998;3.16;0.58...                                                                                                                     \n",
      "4   7.4;0.7;0;1.9;0.076;11;34;0.9978;3.51;0.56;9.4;5                                                                                                                     \n"
     ]
    }
   ],
   "source": [
    "# print head of data set\n",
    "print(data.head())"
   ]
  },
  {
   "cell_type": "code",
   "execution_count": 15,
   "metadata": {},
   "outputs": [],
   "source": [
    "# clearly not comma separated, semi-colon separated in reality\n",
    "# adjust read_csv() call to accomodate separation\n",
    "data = pd.read_csv(dataset_url, sep = \";\")"
   ]
  },
  {
   "cell_type": "code",
   "execution_count": 23,
   "metadata": {},
   "outputs": [
    {
     "data": {
      "text/html": [
       "<div>\n",
       "<style scoped>\n",
       "    .dataframe tbody tr th:only-of-type {\n",
       "        vertical-align: middle;\n",
       "    }\n",
       "\n",
       "    .dataframe tbody tr th {\n",
       "        vertical-align: top;\n",
       "    }\n",
       "\n",
       "    .dataframe thead th {\n",
       "        text-align: right;\n",
       "    }\n",
       "</style>\n",
       "<table border=\"1\" class=\"dataframe\">\n",
       "  <thead>\n",
       "    <tr style=\"text-align: right;\">\n",
       "      <th></th>\n",
       "      <th>fixed acidity</th>\n",
       "      <th>volatile acidity</th>\n",
       "      <th>citric acid</th>\n",
       "      <th>residual sugar</th>\n",
       "      <th>chlorides</th>\n",
       "      <th>free sulfur dioxide</th>\n",
       "      <th>total sulfur dioxide</th>\n",
       "      <th>density</th>\n",
       "      <th>pH</th>\n",
       "      <th>sulphates</th>\n",
       "      <th>alcohol</th>\n",
       "      <th>quality</th>\n",
       "    </tr>\n",
       "  </thead>\n",
       "  <tbody>\n",
       "    <tr>\n",
       "      <th>0</th>\n",
       "      <td>7.4</td>\n",
       "      <td>0.70</td>\n",
       "      <td>0.00</td>\n",
       "      <td>1.9</td>\n",
       "      <td>0.076</td>\n",
       "      <td>11.0</td>\n",
       "      <td>34.0</td>\n",
       "      <td>0.9978</td>\n",
       "      <td>3.51</td>\n",
       "      <td>0.56</td>\n",
       "      <td>9.4</td>\n",
       "      <td>5</td>\n",
       "    </tr>\n",
       "    <tr>\n",
       "      <th>1</th>\n",
       "      <td>7.8</td>\n",
       "      <td>0.88</td>\n",
       "      <td>0.00</td>\n",
       "      <td>2.6</td>\n",
       "      <td>0.098</td>\n",
       "      <td>25.0</td>\n",
       "      <td>67.0</td>\n",
       "      <td>0.9968</td>\n",
       "      <td>3.20</td>\n",
       "      <td>0.68</td>\n",
       "      <td>9.8</td>\n",
       "      <td>5</td>\n",
       "    </tr>\n",
       "    <tr>\n",
       "      <th>2</th>\n",
       "      <td>7.8</td>\n",
       "      <td>0.76</td>\n",
       "      <td>0.04</td>\n",
       "      <td>2.3</td>\n",
       "      <td>0.092</td>\n",
       "      <td>15.0</td>\n",
       "      <td>54.0</td>\n",
       "      <td>0.9970</td>\n",
       "      <td>3.26</td>\n",
       "      <td>0.65</td>\n",
       "      <td>9.8</td>\n",
       "      <td>5</td>\n",
       "    </tr>\n",
       "    <tr>\n",
       "      <th>3</th>\n",
       "      <td>11.2</td>\n",
       "      <td>0.28</td>\n",
       "      <td>0.56</td>\n",
       "      <td>1.9</td>\n",
       "      <td>0.075</td>\n",
       "      <td>17.0</td>\n",
       "      <td>60.0</td>\n",
       "      <td>0.9980</td>\n",
       "      <td>3.16</td>\n",
       "      <td>0.58</td>\n",
       "      <td>9.8</td>\n",
       "      <td>6</td>\n",
       "    </tr>\n",
       "    <tr>\n",
       "      <th>4</th>\n",
       "      <td>7.4</td>\n",
       "      <td>0.70</td>\n",
       "      <td>0.00</td>\n",
       "      <td>1.9</td>\n",
       "      <td>0.076</td>\n",
       "      <td>11.0</td>\n",
       "      <td>34.0</td>\n",
       "      <td>0.9978</td>\n",
       "      <td>3.51</td>\n",
       "      <td>0.56</td>\n",
       "      <td>9.4</td>\n",
       "      <td>5</td>\n",
       "    </tr>\n",
       "  </tbody>\n",
       "</table>\n",
       "</div>"
      ],
      "text/plain": [
       "   fixed acidity  volatile acidity  citric acid  residual sugar  chlorides  \\\n",
       "0            7.4              0.70         0.00             1.9      0.076   \n",
       "1            7.8              0.88         0.00             2.6      0.098   \n",
       "2            7.8              0.76         0.04             2.3      0.092   \n",
       "3           11.2              0.28         0.56             1.9      0.075   \n",
       "4            7.4              0.70         0.00             1.9      0.076   \n",
       "\n",
       "   free sulfur dioxide  total sulfur dioxide  density    pH  sulphates  \\\n",
       "0                 11.0                  34.0   0.9978  3.51       0.56   \n",
       "1                 25.0                  67.0   0.9968  3.20       0.68   \n",
       "2                 15.0                  54.0   0.9970  3.26       0.65   \n",
       "3                 17.0                  60.0   0.9980  3.16       0.58   \n",
       "4                 11.0                  34.0   0.9978  3.51       0.56   \n",
       "\n",
       "   alcohol  quality  \n",
       "0      9.4        5  \n",
       "1      9.8        5  \n",
       "2      9.8        5  \n",
       "3      9.8        6  \n",
       "4      9.4        5  "
      ]
     },
     "execution_count": 23,
     "metadata": {},
     "output_type": "execute_result"
    }
   ],
   "source": [
    "# display structure of data set\n",
    "data_df = pd.DataFrame(data=data[0:],columns=list(data))\n",
    "data = data_df\n",
    "data.quality = data.quality\n",
    "data.head()\n",
    "# print(data)"
   ]
  },
  {
   "cell_type": "code",
   "execution_count": 65,
   "metadata": {},
   "outputs": [
    {
     "name": "stdout",
     "output_type": "stream",
     "text": [
      "Number of columns in data frame: 12\n",
      "Column labels: \n",
      "fixed acidity\n",
      "volatile acidity\n",
      "citric acid\n",
      "residual sugar\n",
      "chlorides\n",
      "free sulfur dioxide\n",
      "total sulfur dioxide\n",
      "density\n",
      "pH\n",
      "sulphates\n",
      "alcohol\n",
      "quality\n",
      "\n",
      "Number of rows in data frame: 1599 \n",
      "\n",
      "Target values: [5 6 7 4 8 3]\n",
      "\n",
      "(Rows, Features):\n"
     ]
    },
    {
     "data": {
      "text/plain": [
       "(1599, 12)"
      ]
     },
     "execution_count": 65,
     "metadata": {},
     "output_type": "execute_result"
    }
   ],
   "source": [
    "# display count of rows and columns in data frame\n",
    "print(\"Number of columns in data frame: %d\" %len(data.columns))\n",
    "print(\"Column labels: \")\n",
    "for i in range(len(list(data))):\n",
    "    print(list(data)[i])\n",
    "    \n",
    "def num_rows(data):\n",
    "    return len(data)\n",
    "print(\"\")\n",
    "print(\"Number of rows in data frame: %d \\n\" %num_rows(data))\n",
    "print(\"Target values: %s\" % data.quality.unique())\n",
    "\n",
    "# observe shape of data (samples and features)\n",
    "print(\"\")\n",
    "print(\"(Rows, Features):\")\n",
    "data.shape\n",
    "# 1599 rows, 12 features"
   ]
  },
  {
   "cell_type": "code",
   "execution_count": 7,
   "metadata": {},
   "outputs": [
    {
     "name": "stdout",
     "output_type": "stream",
     "text": [
      "       fixed acidity  volatile acidity  citric acid  residual sugar  \\\n",
      "count    1599.000000       1599.000000  1599.000000     1599.000000   \n",
      "mean        8.319637          0.527821     0.270976        2.538806   \n",
      "std         1.741096          0.179060     0.194801        1.409928   \n",
      "min         4.600000          0.120000     0.000000        0.900000   \n",
      "25%         7.100000          0.390000     0.090000        1.900000   \n",
      "50%         7.900000          0.520000     0.260000        2.200000   \n",
      "75%         9.200000          0.640000     0.420000        2.600000   \n",
      "max        15.900000          1.580000     1.000000       15.500000   \n",
      "\n",
      "         chlorides  free sulfur dioxide  total sulfur dioxide      density  \\\n",
      "count  1599.000000          1599.000000           1599.000000  1599.000000   \n",
      "mean      0.087467            15.874922             46.467792     0.996747   \n",
      "std       0.047065            10.460157             32.895324     0.001887   \n",
      "min       0.012000             1.000000              6.000000     0.990070   \n",
      "25%       0.070000             7.000000             22.000000     0.995600   \n",
      "50%       0.079000            14.000000             38.000000     0.996750   \n",
      "75%       0.090000            21.000000             62.000000     0.997835   \n",
      "max       0.611000            72.000000            289.000000     1.003690   \n",
      "\n",
      "                pH    sulphates      alcohol      quality  \n",
      "count  1599.000000  1599.000000  1599.000000  1599.000000  \n",
      "mean      3.311113     0.658149    10.422983     5.636023  \n",
      "std       0.154386     0.169507     1.065668     0.807569  \n",
      "min       2.740000     0.330000     8.400000     3.000000  \n",
      "25%       3.210000     0.550000     9.500000     5.000000  \n",
      "50%       3.310000     0.620000    10.200000     6.000000  \n",
      "75%       3.400000     0.730000    11.100000     6.000000  \n",
      "max       4.010000     2.000000    14.900000     8.000000  \n"
     ]
    }
   ],
   "source": [
    "# display summary stats\n",
    "print(data.describe())\n",
    "# data is all numeric, however they have differing scales: data needs standardization"
   ]
  },
  {
   "cell_type": "code",
   "execution_count": 8,
   "metadata": {},
   "outputs": [],
   "source": [
    "# remove target from data set\n",
    "y = data.quality\n",
    "x = data.drop(\"quality\", axis = 1)\n",
    "# partition data (80/20)\n",
    "# random_state sets seed for reproduction of results\n",
    "# startify on target (y): ensures training set and testing set look similar\n",
    "x_train, x_test, y_train, y_test = train_test_split(x, y, test_size = 0.2, random_state = 123, stratify = y)"
   ]
  },
  {
   "cell_type": "code",
   "execution_count": 9,
   "metadata": {},
   "outputs": [
    {
     "name": "stdout",
     "output_type": "stream",
     "text": [
      "[ 1.16664562e-16 -3.05550043e-17 -8.47206937e-17 -2.22218213e-17\n",
      "  2.22218213e-17 -6.38877362e-17 -4.16659149e-18 -2.54439854e-15\n",
      " -8.70817622e-16 -4.08325966e-16 -1.17220107e-15]\n",
      "[1. 1. 1. 1. 1. 1. 1. 1. 1. 1. 1.]\n"
     ]
    }
   ],
   "source": [
    "# standardization that can be reproduced on training and testing sets by saving means \n",
    "# and standard deviations from training set standardization\n",
    "scaler = preprocessing.StandardScaler().fit(x_train)\n",
    "# confirm standardization\n",
    "x_train_scaled = scaler.transform(x_train)\n",
    "print(x_train_scaled.mean(axis = 0))\n",
    "print(x_train_scaled.std(axis = 0))"
   ]
  },
  {
   "cell_type": "code",
   "execution_count": 10,
   "metadata": {},
   "outputs": [
    {
     "name": "stdout",
     "output_type": "stream",
     "text": [
      "[ 0.02776704  0.02592492 -0.03078587 -0.03137977 -0.00471876 -0.04413827\n",
      " -0.02414174 -0.00293273 -0.00467444 -0.10894663  0.01043391]\n",
      "[1.02160495 1.00135689 0.97456598 0.91099054 0.86716698 0.94193125\n",
      " 1.03673213 1.03145119 0.95734849 0.83829505 1.0286218 ]\n"
     ]
    }
   ],
   "source": [
    "# apply transformer to testing set\n",
    "x_test_scaled = scaler.transform(x_test)\n",
    "# confirm standardization\n",
    "print(x_test_scaled.mean(axis = 0))\n",
    "print(x_test_scaled.std(axis = 0))"
   ]
  },
  {
   "cell_type": "code",
   "execution_count": 11,
   "metadata": {},
   "outputs": [],
   "source": [
    "# pipeline with preprocessing and model\n",
    "pipeline = make_pipeline(preprocessing.StandardScaler(), RandomForestRegressor(n_estimators = 100))"
   ]
  },
  {
   "cell_type": "code",
   "execution_count": 12,
   "metadata": {},
   "outputs": [
    {
     "name": "stdout",
     "output_type": "stream",
     "text": [
      "{'randomforestregressor__min_samples_leaf': 1, 'randomforestregressor__max_leaf_nodes': None, 'randomforestregressor__max_features': 'auto', 'randomforestregressor__min_impurity_split': None, 'standardscaler__copy': True, 'randomforestregressor__oob_score': False, 'randomforestregressor__min_weight_fraction_leaf': 0.0, 'randomforestregressor__min_samples_split': 2, 'memory': None, 'randomforestregressor__min_impurity_decrease': 0.0, 'standardscaler': StandardScaler(copy=True, with_mean=True, with_std=True), 'randomforestregressor__random_state': None, 'standardscaler__with_mean': True, 'randomforestregressor__criterion': 'mse', 'randomforestregressor': RandomForestRegressor(bootstrap=True, criterion='mse', max_depth=None,\n",
      "           max_features='auto', max_leaf_nodes=None,\n",
      "           min_impurity_decrease=0.0, min_impurity_split=None,\n",
      "           min_samples_leaf=1, min_samples_split=2,\n",
      "           min_weight_fraction_leaf=0.0, n_estimators=100, n_jobs=1,\n",
      "           oob_score=False, random_state=None, verbose=0, warm_start=False), 'randomforestregressor__max_depth': None, 'standardscaler__with_std': True, 'randomforestregressor__bootstrap': True, 'randomforestregressor__warm_start': False, 'randomforestregressor__n_jobs': 1, 'randomforestregressor__verbose': 0, 'steps': [('standardscaler', StandardScaler(copy=True, with_mean=True, with_std=True)), ('randomforestregressor', RandomForestRegressor(bootstrap=True, criterion='mse', max_depth=None,\n",
      "           max_features='auto', max_leaf_nodes=None,\n",
      "           min_impurity_decrease=0.0, min_impurity_split=None,\n",
      "           min_samples_leaf=1, min_samples_split=2,\n",
      "           min_weight_fraction_leaf=0.0, n_estimators=100, n_jobs=1,\n",
      "           oob_score=False, random_state=None, verbose=0, warm_start=False))], 'randomforestregressor__n_estimators': 100}\n"
     ]
    }
   ],
   "source": [
    "# print tunable hyperparameters\n",
    "print(pipeline.get_params())"
   ]
  },
  {
   "cell_type": "code",
   "execution_count": 13,
   "metadata": {},
   "outputs": [],
   "source": [
    "# declare desired hyperparameters\n",
    "hyperparameters = {\"randomforestregressor__max_features\" : [\"auto\", \"sqrt\", \"log2\"],\n",
    "                  \"randomforestregressor__max_depth\": [None, 5, 3, 1]}"
   ]
  },
  {
   "cell_type": "code",
   "execution_count": 15,
   "metadata": {},
   "outputs": [
    {
     "name": "stdout",
     "output_type": "stream",
     "text": [
      "{'randomforestregressor__max_depth': None, 'randomforestregressor__max_features': 'sqrt'}\n"
     ]
    }
   ],
   "source": [
    "# tune model using cross-validation pipeline\n",
    "clf = GridSearchCV(pipeline, hyperparameters, cv = 10)\n",
    "# fit and tune model\n",
    "clf.fit(x_train, y_train)\n",
    "# print best set of parameters\n",
    "print(clf.best_params_)"
   ]
  },
  {
   "cell_type": "code",
   "execution_count": 16,
   "metadata": {},
   "outputs": [
    {
     "name": "stdout",
     "output_type": "stream",
     "text": [
      "True\n"
     ]
    }
   ],
   "source": [
    "# refit on entire training set\n",
    "print(clf.refit)"
   ]
  },
  {
   "cell_type": "code",
   "execution_count": 17,
   "metadata": {},
   "outputs": [],
   "source": [
    "# evaluate model pipeline on test data\n",
    "# predict new set of data\n",
    "y_pred = clf.predict(x_test)"
   ]
  },
  {
   "cell_type": "code",
   "execution_count": 18,
   "metadata": {},
   "outputs": [
    {
     "name": "stdout",
     "output_type": "stream",
     "text": [
      "0.4682205944669775\n",
      "0.343143125\n"
     ]
    }
   ],
   "source": [
    "# evaluate model performance\n",
    "print(r2_score(y_test, y_pred))\n",
    "print(mean_squared_error(y_test, y_pred))"
   ]
  },
  {
   "cell_type": "code",
   "execution_count": 19,
   "metadata": {},
   "outputs": [
    {
     "data": {
      "text/plain": [
       "['rf_regressor.pkl']"
      ]
     },
     "execution_count": 19,
     "metadata": {},
     "output_type": "execute_result"
    }
   ],
   "source": [
    "# save model for future use\n",
    "joblib.dump(clf, \"rf_regressor.pkl\")"
   ]
  },
  {
   "cell_type": "code",
   "execution_count": 20,
   "metadata": {},
   "outputs": [
    {
     "data": {
      "text/plain": [
       "array([6.55, 5.78, 4.95, 5.63, 6.32, 5.53, 4.98, 4.77, 5.01, 5.99, 5.29,\n",
       "       5.67, 5.88, 5.14, 5.71, 5.49, 6.59, 5.75, 5.71, 6.91, 5.45, 5.6 ,\n",
       "       5.05, 6.14, 5.93, 5.  , 5.32, 5.17, 5.95, 5.96, 5.85, 6.46, 5.98,\n",
       "       5.02, 4.98, 6.  , 5.05, 6.05, 5.01, 5.96, 4.84, 5.81, 6.56, 5.17,\n",
       "       6.15, 5.35, 5.51, 5.51, 5.12, 6.55, 5.9 , 5.29, 5.91, 5.18, 5.49,\n",
       "       5.64, 5.36, 5.4 , 5.02, 5.22, 5.26, 5.19, 5.05, 5.82, 5.97, 5.23,\n",
       "       6.42, 5.  , 5.16, 6.69, 5.72, 5.78, 5.15, 5.05, 5.34, 6.02, 5.47,\n",
       "       5.12, 5.14, 5.36, 6.38, 5.63, 6.12, 6.45, 5.09, 6.01, 6.4 , 6.39,\n",
       "       5.72, 5.71, 5.94, 5.27, 6.43, 5.64, 5.73, 5.83, 6.79, 6.65, 5.51,\n",
       "       6.73, 5.13, 5.39, 5.07, 6.35, 5.05, 4.86, 5.67, 5.13, 5.62, 5.88,\n",
       "       5.95, 5.42, 6.02, 5.39, 5.1 , 5.26, 5.84, 5.13, 5.05, 6.03, 5.83,\n",
       "       5.08, 5.79, 6.21, 5.36, 5.27, 5.42, 5.96, 5.48, 5.42, 5.71, 6.46,\n",
       "       5.18, 5.3 , 5.11, 6.24, 5.03, 5.17, 6.67, 5.53, 5.17, 5.11, 5.65,\n",
       "       6.07, 5.23, 5.43, 5.14, 6.46, 5.69, 5.12, 5.67, 5.17, 4.87, 4.98,\n",
       "       5.26, 5.93, 5.48, 5.73, 5.74, 5.21, 5.54, 5.27, 5.31, 5.97, 5.05,\n",
       "       5.98, 5.08, 5.32, 5.36, 5.2 , 5.97, 5.16, 5.59, 5.1 , 5.59, 5.41,\n",
       "       5.01, 5.31, 5.56, 5.04, 6.01, 5.45, 5.07, 5.01, 5.17, 6.13, 5.16,\n",
       "       5.59, 5.24, 4.93, 5.37, 6.59, 5.88, 5.86, 5.43, 5.26, 5.37, 5.12,\n",
       "       6.17, 4.77, 6.34, 5.11, 5.24, 5.23, 6.75, 6.  , 5.21, 5.19, 5.39,\n",
       "       5.86, 5.74, 5.97, 6.  , 6.32, 5.8 , 5.97, 5.26, 5.24, 5.52, 5.35,\n",
       "       5.35, 6.1 , 6.12, 5.63, 5.95, 5.81, 5.41, 6.32, 5.38, 5.86, 5.36,\n",
       "       5.36, 6.2 , 5.73, 4.83, 4.53, 6.7 , 6.48, 6.24, 5.32, 5.35, 5.42,\n",
       "       5.53, 6.29, 6.02, 5.19, 5.13, 5.37, 5.37, 6.25, 5.24, 5.09, 5.21,\n",
       "       5.18, 6.02, 6.42, 5.63, 5.52, 5.53, 6.35, 5.43, 6.04, 5.34, 5.1 ,\n",
       "       5.68, 5.79, 5.89, 5.58, 5.35, 5.03, 5.73, 5.6 , 6.41, 6.03, 5.48,\n",
       "       5.1 , 5.97, 6.49, 5.87, 5.4 , 5.64, 5.33, 5.27, 6.12, 6.91, 5.37,\n",
       "       6.56, 5.9 , 5.35, 5.64, 5.66, 5.15, 5.19, 6.26, 5.87, 5.9 , 6.  ,\n",
       "       5.94, 5.43, 5.73, 5.57, 6.06, 5.47, 6.92, 6.91, 5.93, 6.18, 5.12,\n",
       "       5.32, 6.  , 5.35, 5.38, 6.09, 6.59, 6.36, 5.36, 5.62, 5.69, 6.06,\n",
       "       5.6 ])"
      ]
     },
     "execution_count": 20,
     "metadata": {},
     "output_type": "execute_result"
    }
   ],
   "source": [
    "# to load model again\n",
    "clf2 = joblib.load(\"rf_regressor.pkl\")\n",
    "# predict data set using loaded model\n",
    "clf2.predict(x_test)"
   ]
  },
  {
   "cell_type": "code",
   "execution_count": null,
   "metadata": {},
   "outputs": [],
   "source": []
  }
 ],
 "metadata": {
  "kernelspec": {
   "display_name": "Python [conda env:snake27]",
   "language": "python",
   "name": "conda-env-snake27-py"
  },
  "language_info": {
   "codemirror_mode": {
    "name": "ipython",
    "version": 2
   },
   "file_extension": ".py",
   "mimetype": "text/x-python",
   "name": "python",
   "nbconvert_exporter": "python",
   "pygments_lexer": "ipython2",
   "version": "2.7.15"
  }
 },
 "nbformat": 4,
 "nbformat_minor": 2
}
