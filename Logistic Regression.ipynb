{
 "cells": [
  {
   "cell_type": "markdown",
   "metadata": {},
   "source": [
    "Logistic Regression Test"
   ]
  },
  {
   "cell_type": "code",
   "execution_count": 1,
   "metadata": {},
   "outputs": [],
   "source": [
    "# import packages\n",
    "import numpy\n",
    "import pandas\n",
    "import scipy\n",
    "import sklearn\n",
    "import matplotlib\n",
    "import itertools"
   ]
  },
  {
   "cell_type": "code",
   "execution_count": 2,
   "metadata": {},
   "outputs": [],
   "source": [
    "# import wine data set, classification algorithm\n",
    "from sklearn import preprocessing\n",
    "from sklearn import datasets\n",
    "from sklearn import linear_model\n",
    "from sklearn.model_selection import train_test_split\n",
    "from sklearn.decomposition import PCA\n",
    "from __future__ import division\n",
    "from matplotlib import pyplot\n",
    "from sklearn.metrics import accuracy_score, confusion_matrix\n",
    "from sklearn.pipeline import make_pipeline\n",
    "from sklearn.model_selection import GridSearchCV\n",
    "from sklearn.metrics import mean_squared_error, r2_score\n",
    "from sklearn.externals import joblib"
   ]
  },
  {
   "cell_type": "code",
   "execution_count": 3,
   "metadata": {},
   "outputs": [],
   "source": [
    "# load and assign wine data set \n",
    "wine = datasets.load_wine()"
   ]
  },
  {
   "cell_type": "code",
   "execution_count": 4,
   "metadata": {},
   "outputs": [],
   "source": [
    "# assign features and labels\n",
    "features = wine.data\n",
    "labels = wine.target"
   ]
  },
  {
   "cell_type": "code",
   "execution_count": 5,
   "metadata": {},
   "outputs": [
    {
     "name": "stdout",
     "output_type": "stream",
     "text": [
      "['alcohol', 'malic_acid', 'ash', 'alcalinity_of_ash', 'magnesium', 'total_phenols', 'flavanoids', 'nonflavanoid_phenols', 'proanthocyanins', 'color_intensity', 'hue', 'od280/od315_of_diluted_wines', 'proline']\n",
      "13\n"
     ]
    }
   ],
   "source": [
    "# print feature names and count\n",
    "print(wine.feature_names)\n",
    "print(len(wine.feature_names))"
   ]
  },
  {
   "cell_type": "code",
   "execution_count": 6,
   "metadata": {},
   "outputs": [
    {
     "name": "stdout",
     "output_type": "stream",
     "text": [
      "['class_0' 'class_1' 'class_2']\n",
      "3\n"
     ]
    }
   ],
   "source": [
    "# print target names and count\n",
    "print(wine.target_names)\n",
    "print(len(wine.target_names))"
   ]
  },
  {
   "cell_type": "code",
   "execution_count": 7,
   "metadata": {},
   "outputs": [
    {
     "data": {
      "text/html": [
       "<div>\n",
       "<style scoped>\n",
       "    .dataframe tbody tr th:only-of-type {\n",
       "        vertical-align: middle;\n",
       "    }\n",
       "\n",
       "    .dataframe tbody tr th {\n",
       "        vertical-align: top;\n",
       "    }\n",
       "\n",
       "    .dataframe thead th {\n",
       "        text-align: right;\n",
       "    }\n",
       "</style>\n",
       "<table border=\"1\" class=\"dataframe\">\n",
       "  <thead>\n",
       "    <tr style=\"text-align: right;\">\n",
       "      <th></th>\n",
       "      <th>alcohol</th>\n",
       "      <th>malic_acid</th>\n",
       "      <th>ash</th>\n",
       "      <th>alcalinity_of_ash</th>\n",
       "      <th>magnesium</th>\n",
       "      <th>total_phenols</th>\n",
       "      <th>flavanoids</th>\n",
       "      <th>nonflavanoid_phenols</th>\n",
       "      <th>proanthocyanins</th>\n",
       "      <th>color_intensity</th>\n",
       "      <th>hue</th>\n",
       "      <th>od280/od315_of_diluted_wines</th>\n",
       "      <th>proline</th>\n",
       "      <th>target</th>\n",
       "    </tr>\n",
       "  </thead>\n",
       "  <tbody>\n",
       "    <tr>\n",
       "      <th>0</th>\n",
       "      <td>14.23</td>\n",
       "      <td>1.71</td>\n",
       "      <td>2.43</td>\n",
       "      <td>15.6</td>\n",
       "      <td>127.0</td>\n",
       "      <td>2.80</td>\n",
       "      <td>3.06</td>\n",
       "      <td>0.28</td>\n",
       "      <td>2.29</td>\n",
       "      <td>5.64</td>\n",
       "      <td>1.04</td>\n",
       "      <td>3.92</td>\n",
       "      <td>1065.0</td>\n",
       "      <td>0</td>\n",
       "    </tr>\n",
       "    <tr>\n",
       "      <th>1</th>\n",
       "      <td>13.20</td>\n",
       "      <td>1.78</td>\n",
       "      <td>2.14</td>\n",
       "      <td>11.2</td>\n",
       "      <td>100.0</td>\n",
       "      <td>2.65</td>\n",
       "      <td>2.76</td>\n",
       "      <td>0.26</td>\n",
       "      <td>1.28</td>\n",
       "      <td>4.38</td>\n",
       "      <td>1.05</td>\n",
       "      <td>3.40</td>\n",
       "      <td>1050.0</td>\n",
       "      <td>0</td>\n",
       "    </tr>\n",
       "    <tr>\n",
       "      <th>2</th>\n",
       "      <td>13.16</td>\n",
       "      <td>2.36</td>\n",
       "      <td>2.67</td>\n",
       "      <td>18.6</td>\n",
       "      <td>101.0</td>\n",
       "      <td>2.80</td>\n",
       "      <td>3.24</td>\n",
       "      <td>0.30</td>\n",
       "      <td>2.81</td>\n",
       "      <td>5.68</td>\n",
       "      <td>1.03</td>\n",
       "      <td>3.17</td>\n",
       "      <td>1185.0</td>\n",
       "      <td>0</td>\n",
       "    </tr>\n",
       "    <tr>\n",
       "      <th>3</th>\n",
       "      <td>14.37</td>\n",
       "      <td>1.95</td>\n",
       "      <td>2.50</td>\n",
       "      <td>16.8</td>\n",
       "      <td>113.0</td>\n",
       "      <td>3.85</td>\n",
       "      <td>3.49</td>\n",
       "      <td>0.24</td>\n",
       "      <td>2.18</td>\n",
       "      <td>7.80</td>\n",
       "      <td>0.86</td>\n",
       "      <td>3.45</td>\n",
       "      <td>1480.0</td>\n",
       "      <td>0</td>\n",
       "    </tr>\n",
       "    <tr>\n",
       "      <th>4</th>\n",
       "      <td>13.24</td>\n",
       "      <td>2.59</td>\n",
       "      <td>2.87</td>\n",
       "      <td>21.0</td>\n",
       "      <td>118.0</td>\n",
       "      <td>2.80</td>\n",
       "      <td>2.69</td>\n",
       "      <td>0.39</td>\n",
       "      <td>1.82</td>\n",
       "      <td>4.32</td>\n",
       "      <td>1.04</td>\n",
       "      <td>2.93</td>\n",
       "      <td>735.0</td>\n",
       "      <td>0</td>\n",
       "    </tr>\n",
       "  </tbody>\n",
       "</table>\n",
       "</div>"
      ],
      "text/plain": [
       "   alcohol  malic_acid   ash  alcalinity_of_ash  magnesium  total_phenols  \\\n",
       "0    14.23        1.71  2.43               15.6      127.0           2.80   \n",
       "1    13.20        1.78  2.14               11.2      100.0           2.65   \n",
       "2    13.16        2.36  2.67               18.6      101.0           2.80   \n",
       "3    14.37        1.95  2.50               16.8      113.0           3.85   \n",
       "4    13.24        2.59  2.87               21.0      118.0           2.80   \n",
       "\n",
       "   flavanoids  nonflavanoid_phenols  proanthocyanins  color_intensity   hue  \\\n",
       "0        3.06                  0.28             2.29             5.64  1.04   \n",
       "1        2.76                  0.26             1.28             4.38  1.05   \n",
       "2        3.24                  0.30             2.81             5.68  1.03   \n",
       "3        3.49                  0.24             2.18             7.80  0.86   \n",
       "4        2.69                  0.39             1.82             4.32  1.04   \n",
       "\n",
       "   od280/od315_of_diluted_wines  proline  target  \n",
       "0                          3.92   1065.0       0  \n",
       "1                          3.40   1050.0       0  \n",
       "2                          3.17   1185.0       0  \n",
       "3                          3.45   1480.0       0  \n",
       "4                          2.93    735.0       0  "
      ]
     },
     "execution_count": 7,
     "metadata": {},
     "output_type": "execute_result"
    }
   ],
   "source": [
    "# display structure of data set\n",
    "wine_pd = pandas.DataFrame(data=wine['data'],columns=wine['feature_names'])\n",
    "data = wine_pd\n",
    "data['target']=wine['target']\n",
    "# next line could be used to map target value to target name from original data set\n",
    "# in this case 0 mapped to class_0 seems redundant\n",
    "# data['class']=data['target'].map(lambda ind: wine['target_names'][ind])\n",
    "data.head()\n",
    "# print(data)"
   ]
  },
  {
   "cell_type": "code",
   "execution_count": 8,
   "metadata": {},
   "outputs": [
    {
     "name": "stdout",
     "output_type": "stream",
     "text": [
      "Number of rows in data frame: 178\n",
      "Number of columns in data frame: 14\n"
     ]
    }
   ],
   "source": [
    "# display count of rows and columns in data frame\n",
    "def num_rows(data):\n",
    "    return len(data)\n",
    "\n",
    "print(\"Number of rows in data frame: %d\" %num_rows(data))\n",
    "print(\"Number of columns in data frame: %d\" %len(data.columns))"
   ]
  },
  {
   "cell_type": "code",
   "execution_count": 50,
   "metadata": {},
   "outputs": [],
   "source": [
    "# partition data set for training and testing (70/30)\n",
    "train_features, test_features, train_labels, test_labels = train_test_split(features, labels, test_size = 0.3, random_state = 123, stratify = labels)"
   ]
  },
  {
   "cell_type": "code",
   "execution_count": 51,
   "metadata": {},
   "outputs": [
    {
     "data": {
      "text/plain": [
       "LogisticRegression(C=1.0, class_weight=None, dual=False, fit_intercept=True,\n",
       "          intercept_scaling=1, max_iter=100, multi_class='ovr', n_jobs=1,\n",
       "          penalty='l2', random_state=None, solver='liblinear', tol=0.0001,\n",
       "          verbose=0, warm_start=False)"
      ]
     },
     "execution_count": 51,
     "metadata": {},
     "output_type": "execute_result"
    }
   ],
   "source": [
    "# logistic regression\n",
    "classifier = linear_model.LogisticRegression()\n",
    "# train logistic model\n",
    "classifier.fit(train_features, train_labels)"
   ]
  },
  {
   "cell_type": "code",
   "execution_count": 52,
   "metadata": {},
   "outputs": [
    {
     "name": "stdout",
     "output_type": "stream",
     "text": [
      "[0 0 0 1 0 0 0 1 2 1 1 1 2 1 2 2 2 1 1 2 1 0 1 2 0 2 1 1 0 2 1 1 2 0 0 0 0\n",
      " 1 2 1 0 2 1 2 0 1 1 1 0 2 0 1 1 2]\n"
     ]
    }
   ],
   "source": [
    "# make predictions\n",
    "predictions = classifier.predict(test_features)\n",
    "print predictions"
   ]
  },
  {
   "cell_type": "code",
   "execution_count": 53,
   "metadata": {},
   "outputs": [
    {
     "name": "stdout",
     "output_type": "stream",
     "text": [
      "0.981481481481\n"
     ]
    }
   ],
   "source": [
    "# cross-validate\n",
    "score = 0\n",
    "for i in range(len(predictions)):\n",
    "    if predictions[i] == test_labels[i]:\n",
    "        score += 1\n",
    "print score/len(predictions)\n",
    "\n",
    "# much better than both radial SVM (30%-40%) and random chance (33%),\n",
    "# about the same as decision tree and random forest and linear svm"
   ]
  },
  {
   "cell_type": "code",
   "execution_count": 54,
   "metadata": {},
   "outputs": [
    {
     "name": "stdout",
     "output_type": "stream",
     "text": [
      "0.9695431472081218\n",
      "0.018518518518518517\n"
     ]
    }
   ],
   "source": [
    "# evaluate model performance\n",
    "print(r2_score(test_labels, predictions))\n",
    "print(mean_squared_error(test_labels, predictions))"
   ]
  },
  {
   "cell_type": "code",
   "execution_count": 55,
   "metadata": {},
   "outputs": [
    {
     "name": "stdout",
     "output_type": "stream",
     "text": [
      "feature: class_0 coefficient, class_1 coefficient, class_2 coefficient\n",
      "-----------------------------------------------------------------------\n",
      "intercept: -0.1819, 0.2849, -0.0723\n",
      "alcohol: -0.2105, 0.7217, -0.4407\n",
      "malic_acid: 0.9174, -0.9869, 0.4763\n",
      "ash: 0.6952, -0.5752, 0.0732\n",
      "alcalinity_of_ash: -0.8054, 0.3064, 0.1330\n",
      "magnesium: -0.0417, 0.0065, 0.0348\n",
      "total_phenols: 0.2734, 0.1114, -0.6449\n",
      "flavanoids: 1.1836, 0.5622, -1.8754\n",
      "nonflavanoid_phenols: 0.0076, 0.4086, -0.0675\n",
      "proanthocyanins: -0.1506, 0.5598, -0.6622\n",
      "color_intensity: -0.1336, -1.8249, 0.9837\n",
      "hue: -0.0926, 0.7397, -0.5171\n",
      "od280/od315_of_diluted_wines: 0.8361, 0.1556, -1.0591\n",
      "proline: 0.0170, -0.0121, 0.0003\n",
      "\n",
      "Accuracy Score: 0.98 \n",
      "\n",
      "Confusion Matrix:\n",
      "[[17  1  0]\n",
      " [ 0 21  0]\n",
      " [ 0  0 15]]\n"
     ]
    }
   ],
   "source": [
    "# With all 13 features\n",
    "# The coefficients\n",
    "print(\"feature: class_0 coefficient, class_1 coefficient, class_2 coefficient\")\n",
    "print(\"-----------------------------------------------------------------------\")\n",
    "print(\"intercept: %.4f, %.4f, %.4f\" % (classifier.intercept_[0], classifier.intercept_[1], classifier.intercept_[2]))\n",
    "for i in range(len(wine.feature_names)):\n",
    "    print(\"%s: %.4f, %.4f, %.4f\" % (wine.feature_names[i], classifier.coef_[0][i], classifier.coef_[1][i], classifier.coef_[2][i]))\n",
    "# The accuracy score: 1 is perfect prediction\n",
    "print(\"\")\n",
    "print(\"Accuracy Score: %.2f \\n\" % accuracy_score(test_labels, predictions))\n",
    "# Confusion matrix \n",
    "print('Confusion Matrix:')\n",
    "print(confusion_matrix(test_labels, predictions))"
   ]
  },
  {
   "cell_type": "code",
   "execution_count": 56,
   "metadata": {},
   "outputs": [
    {
     "name": "stdout",
     "output_type": "stream",
     "text": [
      "Confusion matrix, without normalization\n",
      "[[17  1  0]\n",
      " [ 0 21  0]\n",
      " [ 0  0 15]]\n",
      "Normalized confusion matrix\n",
      "[[0.94444444 0.05555556 0.        ]\n",
      " [0.         1.         0.        ]\n",
      " [0.         0.         1.        ]]\n"
     ]
    },
    {
     "data": {
      "image/png": "[encoded data removed]",
      "text/plain": [
       "<Figure size 432x288 with 2 Axes>"
      ]
     },
     "metadata": {},
     "output_type": "display_data"
    },
    {
     "data": {
      "image/png": "[encoded data removed]",
      "text/plain": [
       "<Figure size 432x288 with 2 Axes>"
      ]
     },
     "metadata": {},
     "output_type": "display_data"
    }
   ],
   "source": [
    "# explore confusion matrix further and visualize\n",
    "class_names = wine.target_names\n",
    "# This function prints and plots the confusion matrix.\n",
    "# Normalization can be applied by setting `normalize=True`\n",
    "def plot_confusion_matrix(cm, classes, normalize=False, title='Confusion matrix', cmap=pyplot.cm.Blues):    \n",
    "    if normalize:\n",
    "        cm = cm.astype('float') / cm.sum(axis=1)[:, numpy.newaxis]\n",
    "        print(\"Normalized confusion matrix\")\n",
    "    else:\n",
    "        print('Confusion matrix, without normalization')\n",
    "\n",
    "    print(cm)\n",
    "\n",
    "    pyplot.imshow(cm, interpolation='nearest', cmap=cmap)\n",
    "    pyplot.title(title)\n",
    "    pyplot.colorbar()\n",
    "    tick_marks = numpy.arange(len(classes))\n",
    "    pyplot.xticks(tick_marks, classes, rotation=45)\n",
    "    pyplot.yticks(tick_marks, classes)\n",
    "\n",
    "    fmt = '.2f' if normalize else 'd'\n",
    "    thresh = cm.max() / 2.\n",
    "    for i, j in itertools.product(range(cm.shape[0]), range(cm.shape[1])):\n",
    "        pyplot.text(j, i, format(cm[i, j], fmt), horizontalalignment=\"center\", color=\"white\" if cm[i, j] > thresh else \"black\")\n",
    "\n",
    "    pyplot.tight_layout()\n",
    "    pyplot.ylabel('True label')\n",
    "    pyplot.xlabel('Predicted label')\n",
    "\n",
    "\n",
    "cnf_matrix = confusion_matrix(test_labels, predictions)\n",
    "# Plot non-normalized confusion matrix\n",
    "pyplot.figure()\n",
    "plot_confusion_matrix(cnf_matrix, classes=class_names, title='Confusion matrix, without normalization')\n",
    "\n",
    "# Plot normalized confusion matrix\n",
    "pyplot.figure()\n",
    "plot_confusion_matrix(cnf_matrix, classes=class_names, normalize=True, title='Normalized confusion matrix')\n",
    "\n",
    "pyplot.show()"
   ]
  },
  {
   "cell_type": "markdown",
   "metadata": {},
   "source": [
    "Logistic Regression using first two principal components"
   ]
  },
  {
   "cell_type": "code",
   "execution_count": 57,
   "metadata": {},
   "outputs": [
    {
     "data": {
      "image/png": "[encoded data removed]",
      "text/plain": [
       "<Figure size 432x288 with 1 Axes>"
      ]
     },
     "metadata": {},
     "output_type": "display_data"
    }
   ],
   "source": [
    "# pca and visualize along two principal components\n",
    "pca = PCA(n_components = 2)\n",
    "transformed_pd = pandas.DataFrame(pca.fit_transform(train_features))\n",
    "transformed = pca.fit_transform(train_features)\n",
    "# logistic regression\n",
    "classifier1 = linear_model.LogisticRegression()\n",
    "# fit logistic regression using first 2 principal components\n",
    "classifier1.fit(transformed, train_labels)\n",
    "\n",
    "pyplot.scatter(transformed_pd[train_labels==0][0], transformed_pd[train_labels==0][1], label='Class 1', c='blue', edgecolors = 'k')\n",
    "pyplot.scatter(transformed_pd[train_labels==1][0], transformed_pd[train_labels==1][1], label='Class 2', c='lightgrey', edgecolors = 'k')\n",
    "pyplot.scatter(transformed_pd[train_labels==2][0], transformed_pd[train_labels==2][1], label='Class 3', c='red', edgecolors = 'k')\n",
    "\n",
    "pyplot.legend()\n",
    "pyplot.show()"
   ]
  },
  {
   "cell_type": "code",
   "execution_count": 58,
   "metadata": {},
   "outputs": [
    {
     "data": {
      "image/png": "[encoded data removed]",
      "text/plain": [
       "<Figure size 432x288 with 1 Axes>"
      ]
     },
     "metadata": {},
     "output_type": "display_data"
    }
   ],
   "source": [
    "# Plot output along first two principal components\n",
    "# decision boundary from logistic regression using principal components as measure along axes\n",
    "h = 0.2\n",
    "x_min, x_max = transformed[:,0].min() - 1, transformed[:, 0].max() + 1\n",
    "y_min, y_max = transformed[:,1].min() - 1, transformed[:, 1].max() + 1\n",
    "xx, yy = numpy.meshgrid(numpy.arange(x_min, x_max, h), numpy.arange(y_min, y_max, h))\n",
    "Z = classifier1.predict(numpy.c_[xx.ravel(), yy.ravel()])\n",
    "Z = Z.reshape(xx.shape)\n",
    "pyplot.contourf(xx, yy, Z, cmap = pyplot.cm.coolwarm, alpha = 0.8)\n",
    "pyplot.scatter(transformed[:,0], transformed[:,1], c = train_labels, cmap = pyplot.cm.coolwarm, s=20, edgecolors='k')\n",
    "pyplot.show()"
   ]
  },
  {
   "cell_type": "code",
   "execution_count": 59,
   "metadata": {},
   "outputs": [
    {
     "name": "stdout",
     "output_type": "stream",
     "text": [
      "[0 0 0 1 0 0 0 1 1 1 1 1 1 1 1 1 1 0 1 1 1 0 1 1 0 1 1 1 0 1 1 0 0 0 0 0 0\n",
      " 1 1 1 0 0 1 1 0 1 1 1 0 1 0 1 1 1]\n",
      "0.703703703704\n"
     ]
    }
   ],
   "source": [
    "# check performance of logistic regression after PCA\n",
    "transformed_test = pca.fit_transform(test_features)\n",
    "# make predictions\n",
    "predictions1 = classifier1.predict(transformed_test)\n",
    "print predictions1\n",
    "# cross-validate\n",
    "score = 0\n",
    "for i in range(len(predictions)):\n",
    "    if predictions1[i] == test_labels[i]:\n",
    "        score += 1\n",
    "print score/len(predictions1)\n",
    "\n",
    "# PCA reduces accuracy of the logistic regression by ~30%"
   ]
  },
  {
   "cell_type": "code",
   "execution_count": 60,
   "metadata": {},
   "outputs": [
    {
     "name": "stdout",
     "output_type": "stream",
     "text": [
      "0.3299492385786801\n",
      "0.4074074074074074\n"
     ]
    }
   ],
   "source": [
    "# evaluate model performance\n",
    "print(r2_score(test_labels, predictions1))\n",
    "print(mean_squared_error(test_labels, predictions1))"
   ]
  },
  {
   "cell_type": "code",
   "execution_count": 61,
   "metadata": {},
   "outputs": [
    {
     "name": "stdout",
     "output_type": "stream",
     "text": [
      "feature: class_0 coefficient, class_1 coefficient, class_2 coefficient\n",
      "-----------------------------------------------------------------------\n",
      "intercept: -1.1521, -0.9524, -1.0538\n",
      "Principal Component 1: 0.0144, -0.0072, -0.0018\n",
      "Principal Component 2: 0.0012, -0.0056, 0.0131\n",
      "\n",
      "Accuracy Score: 0.70 \n",
      "\n",
      "Confusion Matrix:\n",
      "[[18  0  0]\n",
      " [ 1 20  0]\n",
      " [ 2 13  0]]\n"
     ]
    }
   ],
   "source": [
    "# With only first two principal components\n",
    "# The coefficients\n",
    "print(\"feature: class_0 coefficient, class_1 coefficient, class_2 coefficient\")\n",
    "print(\"-----------------------------------------------------------------------\")\n",
    "print(\"intercept: %.4f, %.4f, %.4f\" % (classifier1.intercept_[0], classifier1.intercept_[1], classifier1.intercept_[2]))\n",
    "for i in range(2):\n",
    "    print(\"Principal Component %d: %.4f, %.4f, %.4f\" % (i + 1, classifier1.coef_[0][i], classifier1.coef_[1][i], classifier1.coef_[2][i]))\n",
    "# The mean squared error\n",
    "print(\"\")\n",
    "print(\"Accuracy Score: %.2f \\n\" % accuracy_score(test_labels, predictions1))\n",
    "# Explained variance score: 1 is perfect prediction\n",
    "print('Confusion Matrix:')\n",
    "print(confusion_matrix(test_labels, predictions1))"
   ]
  },
  {
   "cell_type": "code",
   "execution_count": 62,
   "metadata": {},
   "outputs": [
    {
     "name": "stdout",
     "output_type": "stream",
     "text": [
      "Confusion matrix, without normalization\n",
      "[[18  0  0]\n",
      " [ 1 20  0]\n",
      " [ 2 13  0]]\n",
      "Normalized confusion matrix\n",
      "[[1.         0.         0.        ]\n",
      " [0.04761905 0.95238095 0.        ]\n",
      " [0.13333333 0.86666667 0.        ]]\n"
     ]
    },
    {
     "data": {
      "image/png": "[encoded data removed]",
      "text/plain": [
       "<Figure size 432x288 with 2 Axes>"
      ]
     },
     "metadata": {},
     "output_type": "display_data"
    },
    {
     "data": {
      "image/png": "[encoded data removed]",
      "text/plain": [
       "<Figure size 432x288 with 2 Axes>"
      ]
     },
     "metadata": {},
     "output_type": "display_data"
    }
   ],
   "source": [
    "cnf_matrix1 = confusion_matrix(test_labels, predictions1)\n",
    "# Plot non-normalized confusion matrix\n",
    "pyplot.figure()\n",
    "plot_confusion_matrix(cnf_matrix1, classes=class_names, title='Confusion matrix, without normalization')\n",
    "\n",
    "# Plot normalized confusion matrix\n",
    "pyplot.figure()\n",
    "plot_confusion_matrix(cnf_matrix1, classes=class_names, normalize=True, title='Normalized confusion matrix')\n",
    "\n",
    "pyplot.show()"
   ]
  },
  {
   "cell_type": "markdown",
   "metadata": {},
   "source": [
    "Try logistic regression with scaled data in pipeline"
   ]
  },
  {
   "cell_type": "code",
   "execution_count": 63,
   "metadata": {},
   "outputs": [
    {
     "name": "stdout",
     "output_type": "stream",
     "text": [
      "[ 7.70217223e-15 -1.43523186e-15 -2.55575131e-15  1.57400974e-15\n",
      "  3.43811001e-16 -1.07082801e-15 -5.81971747e-17 -6.19576075e-16\n",
      "  8.29869327e-16  1.37613935e-15 -6.48842539e-16 -2.01451759e-16\n",
      " -1.47731290e-16]\n",
      "[1. 1. 1. 1. 1. 1. 1. 1. 1. 1. 1. 1. 1.]\n"
     ]
    }
   ],
   "source": [
    "# standardization that can be reproduced on training and testing sets by saving means \n",
    "# and standard deviations from training set standardization\n",
    "scaler = preprocessing.StandardScaler().fit(train_features)\n",
    "# confirm standardization\n",
    "train_features_scaled = scaler.transform(train_features)\n",
    "print(train_features_scaled.mean(axis = 0))\n",
    "print(train_features_scaled.std(axis = 0))"
   ]
  },
  {
   "cell_type": "code",
   "execution_count": 64,
   "metadata": {},
   "outputs": [
    {
     "name": "stdout",
     "output_type": "stream",
     "text": [
      "[-0.00921788 -0.04787367  0.37291796  0.22584572  0.29995006  0.25528222\n",
      "  0.11495994 -0.06754168  0.141273   -0.02865806  0.1007572   0.03183192\n",
      " -0.06559651]\n",
      "[1.08602394 1.05404087 1.1291255  1.04353505 0.83371536 0.94845563\n",
      " 0.95534196 1.05282609 1.09311142 1.11238174 1.05829275 0.99497694\n",
      " 0.9069575 ]\n"
     ]
    }
   ],
   "source": [
    "# apply transformer to testing set\n",
    "test_features_scaled = scaler.transform(test_features)\n",
    "# confirm standardization\n",
    "print(test_features_scaled.mean(axis = 0))\n",
    "print(test_features_scaled.std(axis = 0))"
   ]
  },
  {
   "cell_type": "code",
   "execution_count": 65,
   "metadata": {},
   "outputs": [],
   "source": [
    "# pipeline with preprocessing and model\n",
    "pipeline = make_pipeline(preprocessing.StandardScaler(), linear_model.LogisticRegression())"
   ]
  },
  {
   "cell_type": "code",
   "execution_count": 66,
   "metadata": {},
   "outputs": [
    {
     "name": "stdout",
     "output_type": "stream",
     "text": [
      "{'logisticregression__n_jobs': 1, 'logisticregression__multi_class': 'ovr', 'standardscaler__with_mean': True, 'logisticregression': LogisticRegression(C=1.0, class_weight=None, dual=False, fit_intercept=True,\n",
      "          intercept_scaling=1, max_iter=100, multi_class='ovr', n_jobs=1,\n",
      "          penalty='l2', random_state=None, solver='liblinear', tol=0.0001,\n",
      "          verbose=0, warm_start=False), 'logisticregression__penalty': 'l2', 'standardscaler__copy': True, 'logisticregression__C': 1.0, 'logisticregression__random_state': None, 'logisticregression__max_iter': 100, 'logisticregression__dual': False, 'logisticregression__warm_start': False, 'logisticregression__verbose': 0, 'steps': [('standardscaler', StandardScaler(copy=True, with_mean=True, with_std=True)), ('logisticregression', LogisticRegression(C=1.0, class_weight=None, dual=False, fit_intercept=True,\n",
      "          intercept_scaling=1, max_iter=100, multi_class='ovr', n_jobs=1,\n",
      "          penalty='l2', random_state=None, solver='liblinear', tol=0.0001,\n",
      "          verbose=0, warm_start=False))], 'memory': None, 'logisticregression__solver': 'liblinear', 'logisticregression__class_weight': None, 'logisticregression__tol': 0.0001, 'standardscaler__with_std': True, 'logisticregression__intercept_scaling': 1, 'standardscaler': StandardScaler(copy=True, with_mean=True, with_std=True), 'logisticregression__fit_intercept': True}\n"
     ]
    }
   ],
   "source": [
    "# print tunable hyperparameters\n",
    "print(pipeline.get_params())"
   ]
  },
  {
   "cell_type": "code",
   "execution_count": 67,
   "metadata": {},
   "outputs": [],
   "source": [
    "# declare desired hyperparameters\n",
    "hyperparameters = {\"logisticregression__max_iter\" : [50, 100, 200],\n",
    "                  \"logisticregression__class_weight\": [None, \"balanced\"],\n",
    "                  \"logisticregression__fit_intercept\" : [True, False]}"
   ]
  },
  {
   "cell_type": "code",
   "execution_count": 68,
   "metadata": {},
   "outputs": [
    {
     "name": "stdout",
     "output_type": "stream",
     "text": [
      "{'logisticregression__max_iter': 50, 'logisticregression__class_weight': None, 'logisticregression__fit_intercept': True}\n"
     ]
    }
   ],
   "source": [
    "# tune model using cross-validation pipeline\n",
    "classifier2 = GridSearchCV(pipeline, hyperparameters, cv = 10)\n",
    "# fit and tune model\n",
    "classifier2.fit(train_features_scaled, train_labels)\n",
    "# print best set of parameters\n",
    "print(classifier2.best_params_)"
   ]
  },
  {
   "cell_type": "code",
   "execution_count": 69,
   "metadata": {},
   "outputs": [
    {
     "name": "stdout",
     "output_type": "stream",
     "text": [
      "True\n"
     ]
    }
   ],
   "source": [
    "# refit on entire training set\n",
    "print(classifier2.refit)"
   ]
  },
  {
   "cell_type": "code",
   "execution_count": 70,
   "metadata": {},
   "outputs": [],
   "source": [
    "# evaluate model pipeline on test data\n",
    "# predict new set of data\n",
    "predictions2 = classifier2.predict(test_features)"
   ]
  },
  {
   "cell_type": "code",
   "execution_count": 71,
   "metadata": {},
   "outputs": [
    {
     "name": "stdout",
     "output_type": "stream",
     "text": [
      "-1.4670050761421325\n",
      "1.5\n"
     ]
    }
   ],
   "source": [
    "# evaluate model performance\n",
    "print(r2_score(test_labels, predictions2))\n",
    "print(mean_squared_error(test_labels, predictions2))"
   ]
  },
  {
   "cell_type": "code",
   "execution_count": 72,
   "metadata": {},
   "outputs": [
    {
     "data": {
      "text/plain": [
       "['logistic_regression.pkl']"
      ]
     },
     "execution_count": 72,
     "metadata": {},
     "output_type": "execute_result"
    }
   ],
   "source": [
    "# save model for future use\n",
    "joblib.dump(classifier2, \"logistic_regression.pkl\")"
   ]
  },
  {
   "cell_type": "code",
   "execution_count": 73,
   "metadata": {},
   "outputs": [],
   "source": [
    "# to load model again\n",
    "classifier2_2 = joblib.load(\"logistic_regression.pkl\")\n",
    "# predict data set using loaded model\n",
    "predictions2 = classifier2_2.predict(test_features)"
   ]
  },
  {
   "cell_type": "code",
   "execution_count": 74,
   "metadata": {},
   "outputs": [
    {
     "name": "stdout",
     "output_type": "stream",
     "text": [
      "0.333333333333\n"
     ]
    }
   ],
   "source": [
    "# cross-validate\n",
    "score = 0\n",
    "for i in range(len(predictions2)):\n",
    "    if predictions2[i] == test_labels[i]:\n",
    "        score += 1\n",
    "print score/len(predictions2)\n",
    "\n",
    "# same as random chance (33%),\n",
    "# worse than logistic regression using PCA (~65%)\n",
    "# much worse than logistic regressin without preprocessing (~93%)\n",
    "# preprocessing seems to be a detriment in this case"
   ]
  },
  {
   "cell_type": "code",
   "execution_count": 75,
   "metadata": {},
   "outputs": [
    {
     "name": "stdout",
     "output_type": "stream",
     "text": [
      "feature: class_0 coefficient, class_1 coefficient, class_2 coefficient\n",
      "-----------------------------------------------------------------------\n",
      "intercept: -1.3399, -1.0050, -2.0073\n",
      "alcohol: 1.4015, -1.3091, 0.1914\n",
      "malic_acid: 0.3567, -0.3753, 0.2724\n",
      "ash: 0.8706, -1.1581, 0.5045\n",
      "alcalinity_of_ash: -1.0403, 0.7381, 0.2487\n",
      "magnesium: 0.1023, -0.1818, 0.2530\n",
      "total_phenols: 0.3050, -0.0326, -0.2152\n",
      "flavanoids: 0.6918, 0.7010, -1.4239\n",
      "nonflavanoid_phenols: -0.4206, 0.5423, -0.2706\n",
      "proanthocyanins: -0.0731, 0.1349, -0.3342\n",
      "color_intensity: 0.0724, -1.6855, 1.3338\n",
      "hue: 0.0969, 1.1359, -1.0613\n",
      "od280/od315_of_diluted_wines: 0.9356, -0.0819, -0.7363\n",
      "proline: 1.6354, -1.4555, -0.0023\n",
      "\n",
      "Accuracy Score: 0.33 \n",
      "\n",
      "Confusion Matrix:\n",
      "[[18  0  0]\n",
      " [21  0  0]\n",
      " [15  0  0]]\n"
     ]
    }
   ],
   "source": [
    "# With standardized data\n",
    "# The coefficients\n",
    "print(\"feature: class_0 coefficient, class_1 coefficient, class_2 coefficient\")\n",
    "print(\"-----------------------------------------------------------------------\")\n",
    "print(\"intercept: %.4f, %.4f, %.4f\" % (classifier2_2.best_estimator_.steps[-1][1].intercept_[0], classifier2_2.best_estimator_.steps[-1][1].intercept_[1], classifier2_2.best_estimator_.steps[-1][1].intercept_[2]))\n",
    "for i in range(len(wine.feature_names)):\n",
    "    print(\"%s: %.4f, %.4f, %.4f\" % (wine.feature_names[i], classifier2_2.best_estimator_.steps[-1][1].coef_[0][i], classifier2_2.best_estimator_.steps[-1][1].coef_[1][i], classifier2_2.best_estimator_.steps[-1][1].coef_[2][i]))\n",
    "# The mean squared error\n",
    "print(\"\")\n",
    "print(\"Accuracy Score: %.2f \\n\" % accuracy_score(test_labels, predictions2))\n",
    "# Explained variance score: 1 is perfect prediction\n",
    "print('Confusion Matrix:')\n",
    "print(confusion_matrix(test_labels, predictions2))"
   ]
  },
  {
   "cell_type": "code",
   "execution_count": 76,
   "metadata": {},
   "outputs": [
    {
     "name": "stdout",
     "output_type": "stream",
     "text": [
      "Confusion matrix, without normalization\n",
      "[[18  0  0]\n",
      " [21  0  0]\n",
      " [15  0  0]]\n",
      "Normalized confusion matrix\n",
      "[[1. 0. 0.]\n",
      " [1. 0. 0.]\n",
      " [1. 0. 0.]]\n"
     ]
    },
    {
     "data": {
      "image/png": "[encoded data removed]",
      "text/plain": [
       "<Figure size 432x288 with 2 Axes>"
      ]
     },
     "metadata": {},
     "output_type": "display_data"
    },
    {
     "data": {
      "image/png": "[encoded data removed]",
      "text/plain": [
       "<Figure size 432x288 with 2 Axes>"
      ]
     },
     "metadata": {},
     "output_type": "display_data"
    }
   ],
   "source": [
    "cnf_matrix2 = confusion_matrix(test_labels, predictions2)\n",
    "# Plot non-normalized confusion matrix\n",
    "pyplot.figure()\n",
    "plot_confusion_matrix(cnf_matrix2, classes=class_names, title='Confusion matrix, without normalization')\n",
    "\n",
    "# Plot normalized confusion matrix\n",
    "pyplot.figure()\n",
    "plot_confusion_matrix(cnf_matrix2, classes=class_names, normalize=True, title='Normalized confusion matrix')\n",
    "\n",
    "pyplot.show()"
   ]
  },
  {
   "cell_type": "code",
   "execution_count": null,
   "metadata": {},
   "outputs": [],
   "source": []
  }
 ],
 "metadata": {
  "kernelspec": {
   "display_name": "Python [conda env:snake27]",
   "language": "python",
   "name": "conda-env-snake27-py"
  },
  "language_info": {
   "codemirror_mode": {
    "name": "ipython",
    "version": 2
   },
   "file_extension": ".py",
   "mimetype": "text/x-python",
   "name": "python",
   "nbconvert_exporter": "python",
   "pygments_lexer": "ipython2",
   "version": "2.7.15"
  }
 },
 "nbformat": 4,
 "nbformat_minor": 2
}
